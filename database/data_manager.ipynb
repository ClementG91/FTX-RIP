{
 "cells": [
  {
   "cell_type": "code",
   "execution_count": 6,
   "metadata": {},
   "outputs": [],
   "source": [
    "import sys\n",
    "sys.path.append( '/var/www/evilcorp2/cBot-Project/utilities' )\n",
    "from data_engine import DataEngine\n",
    "import pandas as pd\n",
    "import ccxt\n",
    "import json\n",
    "f = open('./pair_list.json',)\n",
    "pair_json = json.load(f)\n",
    "f.close()"
   ]
  },
  {
   "cell_type": "markdown",
   "metadata": {},
   "source": [
    "<h1>Inspect data from api or database</h1>"
   ]
  },
  {
   "cell_type": "code",
   "execution_count": 7,
   "metadata": {},
   "outputs": [
    {
     "data": {
      "text/html": [
       "<div>\n",
       "<style scoped>\n",
       "    .dataframe tbody tr th:only-of-type {\n",
       "        vertical-align: middle;\n",
       "    }\n",
       "\n",
       "    .dataframe tbody tr th {\n",
       "        vertical-align: top;\n",
       "    }\n",
       "\n",
       "    .dataframe thead th {\n",
       "        text-align: right;\n",
       "    }\n",
       "</style>\n",
       "<table border=\"1\" class=\"dataframe\">\n",
       "  <thead>\n",
       "    <tr style=\"text-align: right;\">\n",
       "      <th></th>\n",
       "      <th>open</th>\n",
       "      <th>high</th>\n",
       "      <th>low</th>\n",
       "      <th>close</th>\n",
       "      <th>volume</th>\n",
       "    </tr>\n",
       "    <tr>\n",
       "      <th>timestamp</th>\n",
       "      <th></th>\n",
       "      <th></th>\n",
       "      <th></th>\n",
       "      <th></th>\n",
       "      <th></th>\n",
       "    </tr>\n",
       "  </thead>\n",
       "  <tbody>\n",
       "    <tr>\n",
       "      <th>2017-08-14</th>\n",
       "      <td>4261.48</td>\n",
       "      <td>4485.39</td>\n",
       "      <td>3850.00</td>\n",
       "      <td>4086.29</td>\n",
       "      <td>2.843431e+03</td>\n",
       "    </tr>\n",
       "    <tr>\n",
       "      <th>2017-08-21</th>\n",
       "      <td>4069.13</td>\n",
       "      <td>4453.91</td>\n",
       "      <td>3400.00</td>\n",
       "      <td>4310.01</td>\n",
       "      <td>4.599397e+03</td>\n",
       "    </tr>\n",
       "    <tr>\n",
       "      <th>2017-08-28</th>\n",
       "      <td>4310.01</td>\n",
       "      <td>4939.19</td>\n",
       "      <td>4124.54</td>\n",
       "      <td>4509.08</td>\n",
       "      <td>4.753843e+03</td>\n",
       "    </tr>\n",
       "    <tr>\n",
       "      <th>2017-09-04</th>\n",
       "      <td>4505.00</td>\n",
       "      <td>4788.59</td>\n",
       "      <td>3603.00</td>\n",
       "      <td>4130.37</td>\n",
       "      <td>6.382788e+03</td>\n",
       "    </tr>\n",
       "    <tr>\n",
       "      <th>2017-09-11</th>\n",
       "      <td>4153.62</td>\n",
       "      <td>4394.59</td>\n",
       "      <td>2817.00</td>\n",
       "      <td>3699.99</td>\n",
       "      <td>8.106705e+03</td>\n",
       "    </tr>\n",
       "    <tr>\n",
       "      <th>...</th>\n",
       "      <td>...</td>\n",
       "      <td>...</td>\n",
       "      <td>...</td>\n",
       "      <td>...</td>\n",
       "      <td>...</td>\n",
       "    </tr>\n",
       "    <tr>\n",
       "      <th>2022-12-12</th>\n",
       "      <td>17085.05</td>\n",
       "      <td>18387.95</td>\n",
       "      <td>16527.32</td>\n",
       "      <td>16738.21</td>\n",
       "      <td>1.511898e+06</td>\n",
       "    </tr>\n",
       "    <tr>\n",
       "      <th>2022-12-19</th>\n",
       "      <td>16739.00</td>\n",
       "      <td>17061.27</td>\n",
       "      <td>16256.30</td>\n",
       "      <td>16832.11</td>\n",
       "      <td>1.148036e+06</td>\n",
       "    </tr>\n",
       "    <tr>\n",
       "      <th>2022-12-26</th>\n",
       "      <td>16832.11</td>\n",
       "      <td>16972.83</td>\n",
       "      <td>16333.00</td>\n",
       "      <td>16616.75</td>\n",
       "      <td>1.028682e+06</td>\n",
       "    </tr>\n",
       "    <tr>\n",
       "      <th>2023-01-02</th>\n",
       "      <td>16617.17</td>\n",
       "      <td>17176.99</td>\n",
       "      <td>16548.70</td>\n",
       "      <td>17127.83</td>\n",
       "      <td>1.112350e+06</td>\n",
       "    </tr>\n",
       "    <tr>\n",
       "      <th>2023-01-09</th>\n",
       "      <td>17127.83</td>\n",
       "      <td>21258.00</td>\n",
       "      <td>17104.66</td>\n",
       "      <td>20873.53</td>\n",
       "      <td>2.120534e+06</td>\n",
       "    </tr>\n",
       "  </tbody>\n",
       "</table>\n",
       "<p>283 rows × 5 columns</p>\n",
       "</div>"
      ],
      "text/plain": [
       "                open      high       low     close        volume\n",
       "timestamp                                                       \n",
       "2017-08-14   4261.48   4485.39   3850.00   4086.29  2.843431e+03\n",
       "2017-08-21   4069.13   4453.91   3400.00   4310.01  4.599397e+03\n",
       "2017-08-28   4310.01   4939.19   4124.54   4509.08  4.753843e+03\n",
       "2017-09-04   4505.00   4788.59   3603.00   4130.37  6.382788e+03\n",
       "2017-09-11   4153.62   4394.59   2817.00   3699.99  8.106705e+03\n",
       "...              ...       ...       ...       ...           ...\n",
       "2022-12-12  17085.05  18387.95  16527.32  16738.21  1.511898e+06\n",
       "2022-12-19  16739.00  17061.27  16256.30  16832.11  1.148036e+06\n",
       "2022-12-26  16832.11  16972.83  16333.00  16616.75  1.028682e+06\n",
       "2023-01-02  16617.17  17176.99  16548.70  17127.83  1.112350e+06\n",
       "2023-01-09  17127.83  21258.00  17104.66  20873.53  2.120534e+06\n",
       "\n",
       "[283 rows x 5 columns]"
      ]
     },
     "execution_count": 7,
     "metadata": {},
     "output_type": "execute_result"
    }
   ],
   "source": [
    "# -- Data variable --\n",
    "pair_symbol = 'BTC/USDT'\n",
    "timeframe = '1w'\n",
    "start_date = '2017-01-01T00:00:00'\n",
    "\n",
    "# -- Instance class --\n",
    "dataEngine = DataEngine(session=ccxt.binance())\n",
    "\n",
    "# -- Check from exchange API --\n",
    "df =dataEngine.get_historical_from_api(pair_symbol, timeframe, start_date)\n",
    "\n",
    "# -- Check from local database --\n",
    "#df =dataEngine.get_historical_from_db(pair_symbol, timeframe, start_date)\n",
    "\n",
    "df"
   ]
  },
  {
   "cell_type": "markdown",
   "metadata": {},
   "source": [
    "<h1>Download data from api to local database</h1>"
   ]
  },
  {
   "cell_type": "code",
   "execution_count": 8,
   "metadata": {},
   "outputs": [
    {
     "name": "stdout",
     "output_type": "stream",
     "text": [
      "-> downloding symbol BTC/USDT for timeframe 1d\n",
      "BTC/USDT 1978 Candles 1d load since the : 2017-08-17 00:00:00 to : 2023-01-15 00:00:00 in ../database/Binance/1d/BTCUSDT.p\n",
      "-> downloding symbol ETH/USDT for timeframe 1d\n",
      "ETH/USDT 1978 Candles 1d load since the : 2017-08-17 00:00:00 to : 2023-01-15 00:00:00 in ../database/Binance/1d/ETHUSDT.p\n",
      "-> downloding symbol BNB/USDT for timeframe 1d\n",
      "BNB/USDT 1897 Candles 1d load since the : 2017-11-06 00:00:00 to : 2023-01-15 00:00:00 in ../database/Binance/1d/BNBUSDT.p\n",
      "-> downloding symbol XRP/USDT for timeframe 1d\n",
      "XRP/USDT 1718 Candles 1d load since the : 2018-05-04 00:00:00 to : 2023-01-15 00:00:00 in ../database/Binance/1d/XRPUSDT.p\n",
      "-> downloding symbol SOL/USDT for timeframe 1d\n",
      "SOL/USDT 888 Candles 1d load since the : 2020-08-11 00:00:00 to : 2023-01-15 00:00:00 in ../database/Binance/1d/SOLUSDT.p\n",
      "-> downloding symbol BAT/USDT for timeframe 1d\n",
      "BAT/USDT 1414 Candles 1d load since the : 2019-03-04 00:00:00 to : 2023-01-15 00:00:00 in ../database/Binance/1d/BATUSDT.p\n",
      "-> downloding symbol CHZ/USDT for timeframe 1d\n",
      "CHZ/USDT 1228 Candles 1d load since the : 2019-09-06 00:00:00 to : 2023-01-15 00:00:00 in ../database/Binance/1d/CHZUSDT.p\n",
      "-> downloding symbol DOGE/USDT for timeframe 1d\n",
      "DOGE/USDT 1291 Candles 1d load since the : 2019-07-05 00:00:00 to : 2023-01-15 00:00:00 in ../database/Binance/1d/DOGEUSDT.p\n",
      "-> downloding symbol MATIC/USDT for timeframe 1d\n",
      "MATIC/USDT 1361 Candles 1d load since the : 2019-04-26 00:00:00 to : 2023-01-15 00:00:00 in ../database/Binance/1d/MATICUSDT.p\n",
      "-> downloding symbol AVAX/USDT for timeframe 1d\n",
      "AVAX/USDT 846 Candles 1d load since the : 2020-09-22 00:00:00 to : 2023-01-15 00:00:00 in ../database/Binance/1d/AVAXUSDT.p\n"
     ]
    }
   ],
   "source": [
    "# -- Data variable --\n",
    "pair_symbols = pair_json['ftxClassicPair']\n",
    "timeframes = ['1d']\n",
    "start_date = '2017-01-01T00:00:00'\n",
    "\n",
    "# -- Instance class --\n",
    "dataEngine = DataEngine(session=ccxt.binance())\n",
    "\n",
    "# -- Download data from data variable --\n",
    "dataEngine.download_data(pair_symbols, timeframes, start_date)\n"
   ]
  },
  {
   "cell_type": "markdown",
   "metadata": {},
   "source": [
    "<h1>Update data from local database with new data from api</h1>"
   ]
  },
  {
   "cell_type": "code",
   "execution_count": 10,
   "metadata": {},
   "outputs": [
    {
     "name": "stdout",
     "output_type": "stream",
     "text": [
      "BTC/USDT 0 New candles 1h load since the : 2017-08-17 04:00:00 in ../database/Binance/1h/BTCUSDT.p\n",
      "ETH/USDT 0 New candles 1h load since the : 2017-08-17 04:00:00 in ../database/Binance/1h/ETHUSDT.p\n",
      "BNB/USDT 0 New candles 1h load since the : 2017-11-06 03:00:00 in ../database/Binance/1h/BNBUSDT.p\n",
      "XRP/USDT 0 New candles 1h load since the : 2018-05-04 08:00:00 in ../database/Binance/1h/XRPUSDT.p\n",
      "SOL/USDT 0 New candles 1h load since the : 2020-08-11 06:00:00 in ../database/Binance/1h/SOLUSDT.p\n",
      "BAT/USDT 0 New candles 1h load since the : 2019-03-04 10:00:00 in ../database/Binance/1h/BATUSDT.p\n",
      "CHZ/USDT 0 New candles 1h load since the : 2019-09-06 04:00:00 in ../database/Binance/1h/CHZUSDT.p\n",
      "DOGE/USDT 0 New candles 1h load since the : 2019-07-05 12:00:00 in ../database/Binance/1h/DOGEUSDT.p\n",
      "MATIC/USDT 0 New candles 1h load since the : 2019-06-01 00:00:00 in ../database/Binance/1h/MATICUSDT.p\n",
      "AVAX/USDT 0 New candles 1h load since the : 2020-09-22 06:00:00 in ../database/Binance/1h/AVAXUSDT.p\n"
     ]
    }
   ],
   "source": [
    "# -- Data variable --\n",
    "pair_symbols = pair_json['ftxClassicPair']\n",
    "timeframes = ['1h']\n",
    "\n",
    "# -- Instance class --\n",
    "dataEngine = DataEngine(session=ccxt.binance())\n",
    "\n",
    "# -- Download data from data variable --\n",
    "dataEngine.update_data(pair_symbols, timeframes)"
   ]
  }
 ],
 "metadata": {
  "interpreter": {
   "hash": "916dbcbb3f70747c44a77c7bcd40155683ae19c65e1c03b4aa3499c5328201f1"
  },
  "kernelspec": {
   "display_name": "Python 3.9.2 64-bit",
   "language": "python",
   "name": "python3"
  },
  "language_info": {
   "codemirror_mode": {
    "name": "ipython",
    "version": 3
   },
   "file_extension": ".py",
   "mimetype": "text/x-python",
   "name": "python",
   "nbconvert_exporter": "python",
   "pygments_lexer": "ipython3",
   "version": "3.9.2"
  },
  "orig_nbformat": 4
 },
 "nbformat": 4,
 "nbformat_minor": 2
}
